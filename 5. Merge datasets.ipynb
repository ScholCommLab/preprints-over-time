{
 "cells": [
  {
   "cell_type": "markdown",
   "metadata": {},
   "source": [
    "Last updated: July 5, 2023\n",
    "\n",
    "Last run: July 5, 2023\n",
    "\n",
    "**Additional filtering based on data (as described in the published study)**\n",
    "\n",
    "## Unreviewed science in the news: The evolution of preprint media coverage from 2014-2021\n",
    "\n",
    "\n",
    "Juan Pablo Alperin\n",
    "\n",
    "**Related Publication:**\n",
    "Fleerackers, A., Shores, K., Chtena, N. & Alperin, J.P. (2023). Unreviewed science in the news: The evolution of preprint media coverage from 2014-2021. *bioarxiv*. "
   ]
  },
  {
   "cell_type": "code",
   "execution_count": 1,
   "metadata": {},
   "outputs": [],
   "source": [
    "import pandas as pd"
   ]
  },
  {
   "cell_type": "code",
   "execution_count": 2,
   "metadata": {},
   "outputs": [
    {
     "name": "stderr",
     "output_type": "stream",
     "text": [
      "/Users/juan/.pyenv/versions/myenv3.8/lib/python3.8/site-packages/IPython/core/interactiveshell.py:3146: DtypeWarning: Columns (4) have mixed types.Specify dtype option on import or set low_memory=False.\n",
      "  has_raised = await self.run_ast_nodes(code_ast.body, cell_name,\n"
     ]
    }
   ],
   "source": [
    "preprints = pd.read_csv('data/top outlets/preprint_mentions_w_coding.csv')\n",
    "wos = pd.read_csv('data/top outlets/wos_mentions_w_coding.csv')"
   ]
  },
  {
   "cell_type": "code",
   "execution_count": 3,
   "metadata": {},
   "outputs": [],
   "source": [
    "columns = ['altmetric_id', 'doi', 'arxiv_id', 'posted_on', 'pub_year', 'is_covid', 'outlet_name', 'outlet_type', 'outlet_topic', 'outlet_location', 'research_venue']"
   ]
  },
  {
   "cell_type": "code",
   "execution_count": 4,
   "metadata": {},
   "outputs": [
    {
     "name": "stderr",
     "output_type": "stream",
     "text": [
      "<ipython-input-4-1595f18dcf81>:2: SettingWithCopyWarning: \n",
      "A value is trying to be set on a copy of a slice from a DataFrame.\n",
      "Try using .loc[row_indexer,col_indexer] = value instead\n",
      "\n",
      "See the caveats in the documentation: https://pandas.pydata.org/pandas-docs/stable/user_guide/indexing.html#returning-a-view-versus-a-copy\n",
      "  df['research_venue'] = 'wos'\n"
     ]
    }
   ],
   "source": [
    "df = wos[['altmetric_id', 'doi', 'arxiv_id', 'posted_on', 'wos_year', 'covid_title', 'outlet', 'Type', 'Topic', 'Location']]\n",
    "df['research_venue'] = 'wos'\n",
    "\n",
    "df.columns = columns"
   ]
  },
  {
   "cell_type": "code",
   "execution_count": 5,
   "metadata": {},
   "outputs": [],
   "source": [
    "df2 = preprints[['altmetric_id', 'doi', 'arxiv_id', 'posted_on', 'best_preprint_pub_date', 'covid_title', 'outlet', 'Type', 'Topic', 'Location', 'server']]\n",
    "df2.columns = columns\n"
   ]
  },
  {
   "cell_type": "code",
   "execution_count": 6,
   "metadata": {},
   "outputs": [],
   "source": [
    "final = df.append(df2)"
   ]
  },
  {
   "cell_type": "code",
   "execution_count": 7,
   "metadata": {},
   "outputs": [],
   "source": [
    "final['posted_on_year'] = final.posted_on.map(lambda x: int(str(x)[0:4]))\n",
    "final['pub_year'] = final.pub_year.map(lambda x: int(str(x)[0:4]))\n",
    "final['is_covid'] = final.is_covid.astype(int)\n",
    "final['is_preprint'] = final.research_venue.map(lambda x: int(x != 'wos'))"
   ]
  },
  {
   "cell_type": "code",
   "execution_count": 8,
   "metadata": {},
   "outputs": [],
   "source": [
    "final['posted_on'] = pd.to_datetime(final.posted_on)\n",
    "min_date = final.posted_on.min()\n",
    "final['posted_on_day_number'] = final['posted_on'].map(lambda x: (x - min_date).days)\n",
    "final['posted_on_year'] = final.posted_on.map(lambda x: x.year)\n",
    "final['posted_on_month'] = final.posted_on.map(lambda x: x.month)\n",
    "final['posted_on_day'] = final.posted_on.map(lambda x: x.day)"
   ]
  },
  {
   "cell_type": "code",
   "execution_count": 9,
   "metadata": {},
   "outputs": [],
   "source": [
    "final['article_id'] = final.apply(lambda row: \"{}_{}\".format(row['altmetric_id'], ('p' if row['is_preprint'] else 'w')), axis=1)"
   ]
  },
  {
   "cell_type": "code",
   "execution_count": 10,
   "metadata": {},
   "outputs": [],
   "source": [
    "final.sort_values(['posted_on', 'article_id'], inplace=True)"
   ]
  },
  {
   "cell_type": "code",
   "execution_count": 11,
   "metadata": {},
   "outputs": [],
   "source": [
    "final.reset_index(drop=True, inplace=True)\n",
    "final.index.name = 'mention_id'"
   ]
  },
  {
   "cell_type": "code",
   "execution_count": 12,
   "metadata": {},
   "outputs": [],
   "source": [
    "final.to_csv('data/research_mentions_all_final.csv')"
   ]
  }
 ],
 "metadata": {
  "kernelspec": {
   "display_name": "Python 3",
   "language": "python",
   "name": "python3"
  },
  "language_info": {
   "codemirror_mode": {
    "name": "ipython",
    "version": 3
   },
   "file_extension": ".py",
   "mimetype": "text/x-python",
   "name": "python",
   "nbconvert_exporter": "python",
   "pygments_lexer": "ipython3",
   "version": "3.8.6"
  }
 },
 "nbformat": 4,
 "nbformat_minor": 4
}
